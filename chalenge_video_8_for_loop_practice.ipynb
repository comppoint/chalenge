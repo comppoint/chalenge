{
 "cells": [
  {
   "cell_type": "code",
   "execution_count": 1,
   "metadata": {},
   "outputs": [],
   "source": [
    "# q1 :\n",
    "# ineruon \n",
    "# ineruon ineruon \n",
    "# ineruon ineruon ineruon\n",
    "# ineruon ineruon ineruon ineruon\n",
    "\n",
    "# q2 - \n",
    "\n",
    "#           ineruon\n",
    "#     ineruon      ineruon\n",
    "# ineruon\t\tineruon \tineruon\n",
    "# \tineruon\t\t ineruon\n",
    "# \t\t  ineruon\n",
    "\n",
    "# l = [[1,2,3,4] , (2,3,4,5,6) , (3,4,5,6,7) , set([23,4,5,45,4,4,5,45,45,4,5]) , {'k1' :\"sudh\" , \"k2\" : \"ineuron\",\"k3\":\n",
    "#             \"kumar\" , 3:6 , 7:8} , [\"ineuron\" , \"data science \"]]\n",
    "\n",
    "# q3 : Try to extract all the list entity \n",
    "# q4 : Try to extract all the dict enteties\n",
    "# q5 : Try to extract all the tuples entities\n",
    "# q6 : Try to extract all the numerical data it may b a part of dict key and values \n",
    "# q7 : Try to give summation of all the numeric data \n",
    "# q8 : Try to filter out all the odd values out all numeric data which is a part of a list \n",
    "# q9 : Try to extract \"ineruon\" out of this data\n",
    "# q10 :Try to find out a number of occurances of all the data \n",
    "# q11 : Try to find out number of keys in dict element\n",
    "# q12 : Try to filter out all the string data \n",
    "# q13 : Try to Find  out alphanum in data\n",
    "# q14 : Try to find out multiplication of all numeric value in  the individual collection inside dataset \n",
    "# q15 : Try to unwrape all the collection inside collection and create a flat list "
   ]
  },
  {
   "cell_type": "code",
   "execution_count": 2,
   "metadata": {},
   "outputs": [
    {
     "name": "stdout",
     "output_type": "stream",
     "text": [
      "ineruon \n",
      "ineruon ineruon \n",
      "ineruon ineruon ineruon \n",
      "ineruon ineruon ineruon ineruon \n"
     ]
    }
   ],
   "source": [
    "# q1 :\n",
    "# ineruon \n",
    "# ineruon ineruon \n",
    "# ineruon ineruon ineruon\n",
    "# ineruon ineruon ineruon ineruon\n",
    "\n",
    "s = \"ineruon\"\n",
    "for i in range(4):\n",
    "    for j in range(i+1):\n",
    "        print(s,end=\" \")\n",
    "    print()"
   ]
  },
  {
   "cell_type": "code",
   "execution_count": 3,
   "metadata": {},
   "outputs": [
    {
     "name": "stdout",
     "output_type": "stream",
     "text": [
      "              ineruon       \n",
      "       ineruon       ineruon       \n",
      "ineruon       ineruon       ineruon       \n",
      "       ineruon       ineruon       \n",
      "              ineruon       \n"
     ]
    }
   ],
   "source": [
    "# q2 - \n",
    "\n",
    "#           ineruon\n",
    "#     ineruon      ineruon\n",
    "# ineruon\t\tineruon \tineruon\n",
    "# \tineruon\t\t ineruon\n",
    "# \t\t  ineruon\n",
    "for i in range(3):\n",
    "    print(\" \"*((3-i-1)*len(s))+(s+\" \"*len(s))*(i+1))\n",
    "for i in range(2):\n",
    "    print(\" \"*len(s)*(i+1)+(s+\" \"*len(s))*(2-i))"
   ]
  },
  {
   "cell_type": "code",
   "execution_count": 4,
   "metadata": {},
   "outputs": [
    {
     "data": {
      "text/plain": [
       "[[1, 2, 3, 4],\n",
       " (2, 3, 4, 5, 6),\n",
       " (3, 4, 5, 6, 7),\n",
       " {4, 5, 23, 45},\n",
       " {'k1': 'sudh', 'k2': 'ineuron', 'k3': 'kumar', 3: 6, 7: 8},\n",
       " ['ineuron', 'data science ']]"
      ]
     },
     "execution_count": 4,
     "metadata": {},
     "output_type": "execute_result"
    }
   ],
   "source": [
    "l = [[1,2,3,4] , (2,3,4,5,6) , (3,4,5,6,7) , set([23,4,5,45,4,4,5,45,45,4,5]) , {'k1' :\"sudh\" , \"k2\" : \"ineuron\",\"k3\":\"kumar\" , 3:6 , 7:8} , [\"ineuron\" , \"data science \"]]\n",
    "l"
   ]
  },
  {
   "cell_type": "code",
   "execution_count": 5,
   "metadata": {},
   "outputs": [
    {
     "name": "stdout",
     "output_type": "stream",
     "text": [
      "[1, 2, 3, 4]\n",
      "['ineuron', 'data science ']\n"
     ]
    }
   ],
   "source": [
    "# q3 : Try to extract all the list entity \n",
    "for i in l:\n",
    "    if type(i)==list:\n",
    "        print(i)"
   ]
  },
  {
   "cell_type": "code",
   "execution_count": 6,
   "metadata": {},
   "outputs": [
    {
     "name": "stdout",
     "output_type": "stream",
     "text": [
      "{'k1': 'sudh', 'k2': 'ineuron', 'k3': 'kumar', 3: 6, 7: 8}\n"
     ]
    }
   ],
   "source": [
    "# q4 : Try to extract all the dict enteties\n",
    "for i in l:\n",
    "    if type(i)==dict:\n",
    "        print(i)"
   ]
  },
  {
   "cell_type": "code",
   "execution_count": 7,
   "metadata": {},
   "outputs": [
    {
     "name": "stdout",
     "output_type": "stream",
     "text": [
      "(2, 3, 4, 5, 6)\n",
      "(3, 4, 5, 6, 7)\n"
     ]
    }
   ],
   "source": [
    "# q5 : Try to extract all the tuples entities\n",
    "for i in l:\n",
    "    if type(i)==tuple:\n",
    "        print(i)"
   ]
  },
  {
   "cell_type": "code",
   "execution_count": 8,
   "metadata": {},
   "outputs": [
    {
     "name": "stdout",
     "output_type": "stream",
     "text": [
      "1\n",
      "2\n",
      "3\n",
      "4\n",
      "2\n",
      "3\n",
      "4\n",
      "5\n",
      "6\n",
      "3\n",
      "4\n",
      "5\n",
      "6\n",
      "7\n",
      "45\n",
      "4\n",
      "5\n",
      "23\n",
      "3\n",
      "6\n",
      "7\n",
      "8\n"
     ]
    }
   ],
   "source": [
    "# q6 : Try to extract all the numerical data it may b a part of dict key and values \n",
    "for i in l:\n",
    "    if type(i)==list or type(i)==tuple or type(i)==set:\n",
    "        for j in i:\n",
    "            if type(j)==int:\n",
    "                print(j)\n",
    "    if type(i) == dict:\n",
    "        for k,v in i.items():\n",
    "            if type(k)==int:\n",
    "                print(k)\n",
    "            if type(v)==int:\n",
    "                print(v)\n"
   ]
  },
  {
   "cell_type": "code",
   "execution_count": 9,
   "metadata": {},
   "outputs": [
    {
     "name": "stdout",
     "output_type": "stream",
     "text": [
      "156\n"
     ]
    }
   ],
   "source": [
    "# q7 : Try to give summation of all the numeric data \n",
    "added = 0\n",
    "for i in l:\n",
    "    if type(i)==list or type(i)==tuple or type(i)==set:\n",
    "        for j in i:\n",
    "            if type(j)==int:\n",
    "                added += j\n",
    "    if type(i) == dict:\n",
    "        for k,v in i.items():\n",
    "            if type(k)==int:\n",
    "                added += k\n",
    "            if type(v)==int:\n",
    "                added += v\n",
    "print(added)"
   ]
  },
  {
   "cell_type": "code",
   "execution_count": 10,
   "metadata": {},
   "outputs": [
    {
     "name": "stdout",
     "output_type": "stream",
     "text": [
      "1\n",
      "3\n"
     ]
    }
   ],
   "source": [
    "# q8 : Try to filter out all the odd values out all numeric data which is a part of a list \n",
    "for i in l:\n",
    "    if type(i)==list:\n",
    "        for j in i:\n",
    "            if type(j) == int and j%2!=0:\n",
    "                print(j)"
   ]
  },
  {
   "cell_type": "code",
   "execution_count": 11,
   "metadata": {},
   "outputs": [
    {
     "name": "stdout",
     "output_type": "stream",
     "text": [
      "ineuron\n",
      "ineuron\n"
     ]
    }
   ],
   "source": [
    "# q9 : Try to extract \"ineruon\" out of this data\n",
    "for i in l:\n",
    "    if type(i)==list or type(i)==tuple or type(i)==set:\n",
    "        for j in i:\n",
    "            if j==\"ineuron\":\n",
    "                print(j)\n",
    "    if type(i) == dict:\n",
    "        for k,v in i.items():\n",
    "            if k==\"ineuron\":\n",
    "                print(k)\n",
    "            if v==\"ineuron\":\n",
    "                print(v)"
   ]
  },
  {
   "cell_type": "code",
   "execution_count": 12,
   "metadata": {},
   "outputs": [
    {
     "name": "stdout",
     "output_type": "stream",
     "text": [
      "occurances of 1 : 1\n",
      "occurances of 2 : 2\n",
      "occurances of 3 : 4\n",
      "occurances of 4 : 4\n",
      "occurances of 5 : 3\n",
      "occurances of 6 : 3\n",
      "occurances of 7 : 2\n",
      "occurances of k1 : 1\n",
      "occurances of sudh : 1\n",
      "occurances of k3 : 1\n",
      "occurances of kumar : 1\n",
      "occurances of 8 : 1\n",
      "occurances of 45 : 1\n",
      "occurances of data science  : 1\n",
      "occurances of ineuron : 2\n",
      "occurances of 23 : 1\n",
      "occurances of k2 : 1\n"
     ]
    }
   ],
   "source": [
    "# q10 :Try to find out a number of occurances of all the data \n",
    "data = []\n",
    "for i in l:\n",
    "    if type(i)==list or type(i)==tuple or type(i)==set:\n",
    "        for j in i:\n",
    "            data.append(j)\n",
    "    if type(i) == dict:\n",
    "        for k,v in i.items():\n",
    "            data.append(k)\n",
    "            data.append(v)\n",
    "for i in set(data):\n",
    "    print(\"occurances of\",str(i),\":\",str(data.count(i)))"
   ]
  },
  {
   "cell_type": "code",
   "execution_count": 13,
   "metadata": {},
   "outputs": [
    {
     "name": "stdout",
     "output_type": "stream",
     "text": [
      "5\n"
     ]
    }
   ],
   "source": [
    "# q11 : Try to find out number of keys in dict element\n",
    "for i in l:\n",
    "    if type(i)==dict:\n",
    "        print(len(i))"
   ]
  },
  {
   "cell_type": "code",
   "execution_count": 14,
   "metadata": {},
   "outputs": [
    {
     "name": "stdout",
     "output_type": "stream",
     "text": [
      "k1\n",
      "sudh\n",
      "k2\n",
      "ineuron\n",
      "k3\n",
      "kumar\n",
      "ineuron\n",
      "data science \n"
     ]
    }
   ],
   "source": [
    "# q12 : Try to filter out all the string data \n",
    "for i in l:\n",
    "    if type(i)==list or type(i)==tuple or type(i)==set:\n",
    "        for j in i:\n",
    "            if type(j) == str:\n",
    "                print(j)\n",
    "    if type(i) == dict:\n",
    "        for k,v in i.items():\n",
    "            if type(k) == str:\n",
    "                print(k)\n",
    "            if type(v) == str:\n",
    "                print(v)"
   ]
  },
  {
   "cell_type": "code",
   "execution_count": 15,
   "metadata": {},
   "outputs": [
    {
     "name": "stdout",
     "output_type": "stream",
     "text": [
      "k1\n",
      "sudh\n",
      "k2\n",
      "ineuron\n",
      "k3\n",
      "kumar\n",
      "ineuron\n"
     ]
    }
   ],
   "source": [
    "# q13 : Try to Find  out alphanum in data\n",
    "for i in l:\n",
    "    if type(i)==list or type(i)==tuple or type(i)==set:\n",
    "        for j in i:\n",
    "            if type(j) == str and j.isalnum():\n",
    "                print(j)\n",
    "    if type(i) == dict:\n",
    "        for k,v in i.items():\n",
    "            if type(k) == str and k.isalnum():\n",
    "                print(k)\n",
    "            if type(v) == str and v.isalnum():\n",
    "                print(v)"
   ]
  },
  {
   "cell_type": "code",
   "execution_count": 16,
   "metadata": {},
   "outputs": [
    {
     "name": "stdout",
     "output_type": "stream",
     "text": [
      "908605071360000\n"
     ]
    }
   ],
   "source": [
    "# q14 : Try to find out multiplication of all numeric value in  the individual collection inside dataset \n",
    "multi = 1\n",
    "for i in l:\n",
    "    if type(i)==list or type(i)==tuple or type(i)==set:\n",
    "        for j in i:\n",
    "            if type(j)==int:\n",
    "                multi *= j\n",
    "    if type(i) == dict:\n",
    "        for k,v in i.items():\n",
    "            if type(k)==int:\n",
    "                multi *= k\n",
    "            if type(v)==int:\n",
    "                multi *= v\n",
    "print(multi)"
   ]
  },
  {
   "cell_type": "code",
   "execution_count": 17,
   "metadata": {},
   "outputs": [
    {
     "name": "stdout",
     "output_type": "stream",
     "text": [
      "[1, 2, 3, 4, 2, 3, 4, 5, 6, 3, 4, 5, 6, 7, 45, 4, 5, 23, 'k1', 'sudh', 'k2', 'ineuron', 'k3', 'kumar', 3, 6, 7, 8, 'ineuron', 'data science ']\n"
     ]
    }
   ],
   "source": [
    "# q15 : Try to unwrape all the collection inside collection and create a flat list \n",
    "data = []\n",
    "for i in l:\n",
    "    if type(i)==list or type(i)==tuple or type(i)==set:\n",
    "        for j in i:\n",
    "            data.append(j)\n",
    "    if type(i) == dict:\n",
    "        for k,v in i.items():\n",
    "            data.append(k)\n",
    "            data.append(v)\n",
    "print(data)"
   ]
  }
 ],
 "metadata": {
  "kernelspec": {
   "display_name": "Python 3.9.7 ('base')",
   "language": "python",
   "name": "python3"
  },
  "language_info": {
   "codemirror_mode": {
    "name": "ipython",
    "version": 3
   },
   "file_extension": ".py",
   "mimetype": "text/x-python",
   "name": "python",
   "nbconvert_exporter": "python",
   "pygments_lexer": "ipython3",
   "version": "3.9.7"
  },
  "orig_nbformat": 4,
  "vscode": {
   "interpreter": {
    "hash": "f7dd959b7247feddc79f089274c29efeef93ebd1badcdb854861350ab27e8282"
   }
  }
 },
 "nbformat": 4,
 "nbformat_minor": 2
}
